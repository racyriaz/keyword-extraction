{
 "metadata": {
  "language_info": {
   "codemirror_mode": {
    "name": "ipython",
    "version": 3
   },
   "file_extension": ".py",
   "mimetype": "text/x-python",
   "name": "python",
   "nbconvert_exporter": "python",
   "pygments_lexer": "ipython3",
   "version": 3
  },
  "orig_nbformat": 2
 },
 "nbformat": 4,
 "nbformat_minor": 2,
 "cells": [
  {
   "cell_type": "code",
   "execution_count": null,
   "metadata": {},
   "outputs": [],
   "source": [
    "\n",
    "import nltk\n",
    "from nltk.tokenize import word_tokenize\n",
    "from nltk.corpus import stopwords\n",
    "from nltk.stem import WordNetLemmatizer\n",
    "\n",
    "\n",
    "# tokenizer\n",
    "\n",
    "\n",
    "# IMPORTING THE STOPWORDS FOR ENGLISH LANGUAGE\n",
    "\n",
    "stop_words = list(set(stopwords.words('english')))\n",
    "\n",
    "\n",
    "\n",
    "\n",
    "def filter_stopwords(x):\n",
    "    words = word_tokenize(x)\n",
    "    token = []\n",
    "    for i in words:\n",
    "        if i not in stop_words:\n",
    "            token.append(i)\n",
    "    return token\n",
    "\n",
    "df['f_tokens']=df.description.apply(filter_stopwords)\n",
    "\n",
    "\n",
    "\n",
    "\n",
    "\n",
    "lemmatizer =  WordNetLemmatizer()\n",
    "\n",
    "def lema(x):\n",
    "    lemas = []\n",
    "    for i in x:\n",
    "        lemas.append(lemmatizer.lemmatize(i))\n",
    "    return lemas\n",
    "df['lemma'] = df.f_tokens.apply(lema)"
   ]
  }
 ]
}